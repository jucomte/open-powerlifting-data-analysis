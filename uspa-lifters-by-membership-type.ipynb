{
 "cells": [
  {
   "cell_type": "markdown",
   "metadata": {},
   "source": [
    "# USPA lifters by membership type\n",
    "This page uses data from the OpenPowerlifting project, https://www.openpowerlifting.org. <br>\n",
    "You may download a copy of the data at https://gitlab.com/openpowerlifting/opl-data."
   ]
  },
  {
   "cell_type": "code",
   "execution_count": 1,
   "metadata": {},
   "outputs": [],
   "source": [
    "import pandas as pd\n",
    "import matplotlib.pyplot as plt\n",
    "import matplotlib.ticker as ticker\n",
    "\n",
    "%matplotlib inline"
   ]
  },
  {
   "cell_type": "markdown",
   "metadata": {},
   "source": [
    "#### Load the data"
   ]
  },
  {
   "cell_type": "code",
   "execution_count": 2,
   "metadata": {},
   "outputs": [],
   "source": [
    "data_types = {'Name': str,\n",
    "              'Sex': str,\n",
    "              'Equipment': str,\n",
    "              'Division': str,\n",
    "              'Event': str,\n",
    "              'TotalKg': float,\n",
    "              'Wilks': float,\n",
    "              'WeightClassKg': str,\n",
    "              'Federation': str,\n",
    "              'Place': str,\n",
    "              'Date': str,\n",
    "              'MeetState': str,\n",
    "              'MeetName': str,\n",
    "              'MeetCountry': str}\n",
    "\n",
    "columns = ['Name',\n",
    "           'Sex',\n",
    "           'Equipment',\n",
    "           'Division',\n",
    "           'Event',\n",
    "           'WeightClassKg',\n",
    "           'TotalKg',\n",
    "           'Wilks',\n",
    "           'Place',\n",
    "           'Federation',\n",
    "           'Date',\n",
    "           'MeetState',\n",
    "           'MeetName',\n",
    "           'MeetCountry']"
   ]
  },
  {
   "cell_type": "code",
   "execution_count": 3,
   "metadata": {},
   "outputs": [
    {
     "data": {
      "text/html": [
       "<div>\n",
       "<style scoped>\n",
       "    .dataframe tbody tr th:only-of-type {\n",
       "        vertical-align: middle;\n",
       "    }\n",
       "\n",
       "    .dataframe tbody tr th {\n",
       "        vertical-align: top;\n",
       "    }\n",
       "\n",
       "    .dataframe thead th {\n",
       "        text-align: right;\n",
       "    }\n",
       "</style>\n",
       "<table border=\"1\" class=\"dataframe\">\n",
       "  <thead>\n",
       "    <tr style=\"text-align: right;\">\n",
       "      <th></th>\n",
       "      <th>Name</th>\n",
       "      <th>Sex</th>\n",
       "      <th>Event</th>\n",
       "      <th>Equipment</th>\n",
       "      <th>Division</th>\n",
       "      <th>WeightClassKg</th>\n",
       "      <th>TotalKg</th>\n",
       "      <th>Place</th>\n",
       "      <th>Wilks</th>\n",
       "      <th>Federation</th>\n",
       "      <th>Date</th>\n",
       "      <th>MeetCountry</th>\n",
       "      <th>MeetState</th>\n",
       "      <th>MeetName</th>\n",
       "    </tr>\n",
       "  </thead>\n",
       "  <tbody>\n",
       "    <tr>\n",
       "      <th>0</th>\n",
       "      <td>Abbie Murphy</td>\n",
       "      <td>F</td>\n",
       "      <td>SBD</td>\n",
       "      <td>Wraps</td>\n",
       "      <td>F-OR</td>\n",
       "      <td>60</td>\n",
       "      <td>290.0</td>\n",
       "      <td>4</td>\n",
       "      <td>324.16</td>\n",
       "      <td>GPC-AUS</td>\n",
       "      <td>2018-10-27</td>\n",
       "      <td>Australia</td>\n",
       "      <td>VIC</td>\n",
       "      <td>Melbourne Cup</td>\n",
       "    </tr>\n",
       "    <tr>\n",
       "      <th>1</th>\n",
       "      <td>Abbie Tuong</td>\n",
       "      <td>F</td>\n",
       "      <td>SBD</td>\n",
       "      <td>Wraps</td>\n",
       "      <td>F-OR</td>\n",
       "      <td>60</td>\n",
       "      <td>332.5</td>\n",
       "      <td>2</td>\n",
       "      <td>378.07</td>\n",
       "      <td>GPC-AUS</td>\n",
       "      <td>2018-10-27</td>\n",
       "      <td>Australia</td>\n",
       "      <td>VIC</td>\n",
       "      <td>Melbourne Cup</td>\n",
       "    </tr>\n",
       "    <tr>\n",
       "      <th>2</th>\n",
       "      <td>Ainslee Hooper</td>\n",
       "      <td>F</td>\n",
       "      <td>B</td>\n",
       "      <td>Raw</td>\n",
       "      <td>F-OR</td>\n",
       "      <td>56</td>\n",
       "      <td>32.5</td>\n",
       "      <td>1</td>\n",
       "      <td>38.56</td>\n",
       "      <td>GPC-AUS</td>\n",
       "      <td>2018-10-27</td>\n",
       "      <td>Australia</td>\n",
       "      <td>VIC</td>\n",
       "      <td>Melbourne Cup</td>\n",
       "    </tr>\n",
       "    <tr>\n",
       "      <th>3</th>\n",
       "      <td>Amy Moldenhauer</td>\n",
       "      <td>F</td>\n",
       "      <td>SBD</td>\n",
       "      <td>Wraps</td>\n",
       "      <td>F-OR</td>\n",
       "      <td>60</td>\n",
       "      <td>310.0</td>\n",
       "      <td>3</td>\n",
       "      <td>345.61</td>\n",
       "      <td>GPC-AUS</td>\n",
       "      <td>2018-10-27</td>\n",
       "      <td>Australia</td>\n",
       "      <td>VIC</td>\n",
       "      <td>Melbourne Cup</td>\n",
       "    </tr>\n",
       "    <tr>\n",
       "      <th>4</th>\n",
       "      <td>Andrea Rowan</td>\n",
       "      <td>F</td>\n",
       "      <td>SBD</td>\n",
       "      <td>Wraps</td>\n",
       "      <td>F-OR</td>\n",
       "      <td>110</td>\n",
       "      <td>390.0</td>\n",
       "      <td>3</td>\n",
       "      <td>321.25</td>\n",
       "      <td>GPC-AUS</td>\n",
       "      <td>2018-10-27</td>\n",
       "      <td>Australia</td>\n",
       "      <td>VIC</td>\n",
       "      <td>Melbourne Cup</td>\n",
       "    </tr>\n",
       "  </tbody>\n",
       "</table>\n",
       "</div>"
      ],
      "text/plain": [
       "              Name Sex Event Equipment Division WeightClassKg  TotalKg Place  \\\n",
       "0     Abbie Murphy   F   SBD     Wraps     F-OR            60    290.0     4   \n",
       "1      Abbie Tuong   F   SBD     Wraps     F-OR            60    332.5     2   \n",
       "2   Ainslee Hooper   F     B       Raw     F-OR            56     32.5     1   \n",
       "3  Amy Moldenhauer   F   SBD     Wraps     F-OR            60    310.0     3   \n",
       "4     Andrea Rowan   F   SBD     Wraps     F-OR           110    390.0     3   \n",
       "\n",
       "    Wilks Federation        Date MeetCountry MeetState       MeetName  \n",
       "0  324.16    GPC-AUS  2018-10-27   Australia       VIC  Melbourne Cup  \n",
       "1  378.07    GPC-AUS  2018-10-27   Australia       VIC  Melbourne Cup  \n",
       "2   38.56    GPC-AUS  2018-10-27   Australia       VIC  Melbourne Cup  \n",
       "3  345.61    GPC-AUS  2018-10-27   Australia       VIC  Melbourne Cup  \n",
       "4  321.25    GPC-AUS  2018-10-27   Australia       VIC  Melbourne Cup  "
      ]
     },
     "execution_count": 3,
     "metadata": {},
     "output_type": "execute_result"
    }
   ],
   "source": [
    "op = pd.read_csv('openpowerlifting-2020-01-03.csv', usecols=columns, dtype=data_types)\n",
    "op.head()"
   ]
  },
  {
   "cell_type": "markdown",
   "metadata": {},
   "source": [
    "#### Analyze the data"
   ]
  },
  {
   "cell_type": "code",
   "execution_count": 4,
   "metadata": {},
   "outputs": [],
   "source": [
    "# create a year column\n",
    "op['Year'] = op['Date'].str[0:4].astype(int)"
   ]
  },
  {
   "cell_type": "code",
   "execution_count": 5,
   "metadata": {
    "scrolled": false
   },
   "outputs": [],
   "source": [
    "# count U.S. IPL meets as USPA meets\n",
    "op.loc[(op['MeetCountry'] == 'USA') & (op['Federation'] == 'IPL'), 'Federation'] = 'USPA'"
   ]
  },
  {
   "cell_type": "code",
   "execution_count": 6,
   "metadata": {},
   "outputs": [],
   "source": [
    "# filter the main dataframe to USPA meets only\n",
    "uspa = op[(op['Federation'] == 'USPA')]"
   ]
  },
  {
   "cell_type": "code",
   "execution_count": 7,
   "metadata": {},
   "outputs": [],
   "source": [
    "# find the date of the earliest meet each competitor did each year\n",
    "# so that a lifter is counted only once per year and so that we can later\n",
    "# determine their membership status for the year based on their first meet that year\n",
    "earliest_meet_by_year = uspa.groupby(['Year', 'Name'])['Date'].min().reset_index()"
   ]
  },
  {
   "cell_type": "code",
   "execution_count": 8,
   "metadata": {},
   "outputs": [],
   "source": [
    "# find the first USPA meet ever for each competitor\n",
    "first_uspa_meet = uspa.groupby('Name')['Date'].min().reset_index()\n",
    "first_uspa_meet.columns = ['Name', 'FirstUSPAMeet']"
   ]
  },
  {
   "cell_type": "code",
   "execution_count": 9,
   "metadata": {},
   "outputs": [],
   "source": [
    "# merge the two dataframes\n",
    "uspa_data = pd.merge(earliest_meet_by_year, first_uspa_meet, on='Name')"
   ]
  },
  {
   "cell_type": "code",
   "execution_count": 10,
   "metadata": {},
   "outputs": [],
   "source": [
    "# create a column for membership type\n",
    "uspa_data['MembershipType'] = 'New'\n",
    "uspa_data.loc[uspa_data['Date'] > uspa_data['FirstUSPAMeet'], 'MembershipType'] = 'Existing'"
   ]
  },
  {
   "cell_type": "code",
   "execution_count": 11,
   "metadata": {},
   "outputs": [
    {
     "data": {
      "text/html": [
       "<div>\n",
       "<style scoped>\n",
       "    .dataframe tbody tr th:only-of-type {\n",
       "        vertical-align: middle;\n",
       "    }\n",
       "\n",
       "    .dataframe tbody tr th {\n",
       "        vertical-align: top;\n",
       "    }\n",
       "\n",
       "    .dataframe thead th {\n",
       "        text-align: right;\n",
       "    }\n",
       "</style>\n",
       "<table border=\"1\" class=\"dataframe\">\n",
       "  <thead>\n",
       "    <tr style=\"text-align: right;\">\n",
       "      <th>MembershipType</th>\n",
       "      <th>Existing</th>\n",
       "      <th>New</th>\n",
       "    </tr>\n",
       "    <tr>\n",
       "      <th>Year</th>\n",
       "      <th></th>\n",
       "      <th></th>\n",
       "    </tr>\n",
       "  </thead>\n",
       "  <tbody>\n",
       "    <tr>\n",
       "      <th>2008</th>\n",
       "      <td>0</td>\n",
       "      <td>102</td>\n",
       "    </tr>\n",
       "    <tr>\n",
       "      <th>2009</th>\n",
       "      <td>0</td>\n",
       "      <td>41</td>\n",
       "    </tr>\n",
       "    <tr>\n",
       "      <th>2010</th>\n",
       "      <td>11</td>\n",
       "      <td>123</td>\n",
       "    </tr>\n",
       "    <tr>\n",
       "      <th>2011</th>\n",
       "      <td>65</td>\n",
       "      <td>746</td>\n",
       "    </tr>\n",
       "    <tr>\n",
       "      <th>2012</th>\n",
       "      <td>431</td>\n",
       "      <td>1323</td>\n",
       "    </tr>\n",
       "    <tr>\n",
       "      <th>2013</th>\n",
       "      <td>720</td>\n",
       "      <td>2003</td>\n",
       "    </tr>\n",
       "    <tr>\n",
       "      <th>2014</th>\n",
       "      <td>1169</td>\n",
       "      <td>3291</td>\n",
       "    </tr>\n",
       "    <tr>\n",
       "      <th>2015</th>\n",
       "      <td>1885</td>\n",
       "      <td>4046</td>\n",
       "    </tr>\n",
       "    <tr>\n",
       "      <th>2016</th>\n",
       "      <td>2760</td>\n",
       "      <td>5896</td>\n",
       "    </tr>\n",
       "    <tr>\n",
       "      <th>2017</th>\n",
       "      <td>3982</td>\n",
       "      <td>6628</td>\n",
       "    </tr>\n",
       "    <tr>\n",
       "      <th>2018</th>\n",
       "      <td>5242</td>\n",
       "      <td>7034</td>\n",
       "    </tr>\n",
       "    <tr>\n",
       "      <th>2019</th>\n",
       "      <td>6225</td>\n",
       "      <td>7658</td>\n",
       "    </tr>\n",
       "  </tbody>\n",
       "</table>\n",
       "</div>"
      ],
      "text/plain": [
       "MembershipType  Existing   New\n",
       "Year                          \n",
       "2008                   0   102\n",
       "2009                   0    41\n",
       "2010                  11   123\n",
       "2011                  65   746\n",
       "2012                 431  1323\n",
       "2013                 720  2003\n",
       "2014                1169  3291\n",
       "2015                1885  4046\n",
       "2016                2760  5896\n",
       "2017                3982  6628\n",
       "2018                5242  7034\n",
       "2019                6225  7658"
      ]
     },
     "execution_count": 11,
     "metadata": {},
     "output_type": "execute_result"
    }
   ],
   "source": [
    "# count competitors by membership type\n",
    "membership = uspa_data.groupby(['Year', 'MembershipType'], as_index=False)['Name'].count()\n",
    "membership_pivot = membership.pivot_table(index='Year', columns='MembershipType', values='Name', fill_value=0)\n",
    "membership_pivot"
   ]
  },
  {
   "cell_type": "code",
   "execution_count": 12,
   "metadata": {},
   "outputs": [
    {
     "data": {
      "image/png": "[encoded data removed]",
      "text/plain": [
       "<Figure size 1080x576 with 1 Axes>"
      ]
     },
     "metadata": {
      "needs_background": "light"
     },
     "output_type": "display_data"
    }
   ],
   "source": [
    "# visualize the results\n",
    "\n",
    "fig, ax = plt.subplots(figsize=(15, 8))\n",
    "\n",
    "membership_pivot.plot.bar(stacked=True, width=0.75, ax=ax)\n",
    "\n",
    "plt.title('USPA lifters by membership type', size=21)\n",
    "plt.xlabel('Year', size=17)\n",
    "plt.ylabel('Number of lifters', size=17)\n",
    "plt.legend(fontsize=15)\n",
    "plt.xticks(rotation='horizontal', size=15)\n",
    "ax.tick_params(axis='x', which='major', pad=8, length=0)\n",
    "plt.yticks(size=15)\n",
    "ax.yaxis.set_major_formatter(ticker.StrMethodFormatter('{x:,.0f}'))\n",
    "plt.show()"
   ]
  }
 ],
 "metadata": {
  "kernelspec": {
   "display_name": "Python 3",
   "language": "python",
   "name": "python3"
  },
  "language_info": {
   "codemirror_mode": {
    "name": "ipython",
    "version": 3
   },
   "file_extension": ".py",
   "mimetype": "text/x-python",
   "name": "python",
   "nbconvert_exporter": "python",
   "pygments_lexer": "ipython3",
   "version": "3.7.3"
  }
 },
 "nbformat": 4,
 "nbformat_minor": 2
}
