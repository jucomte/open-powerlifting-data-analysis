{
 "cells": [
  {
   "cell_type": "markdown",
   "metadata": {},
   "source": [
    "# USPA submaster lifters\n",
    "This page uses data from the OpenPowerlifting project, https://www.openpowerlifting.org. <br>\n",
    "You may download a copy of the data at https://gitlab.com/openpowerlifting/opl-data."
   ]
  },
  {
   "cell_type": "code",
   "execution_count": 1,
   "metadata": {},
   "outputs": [],
   "source": [
    "import pandas as pd\n",
    "import matplotlib.pyplot as plt\n",
    "import matplotlib.ticker as ticker\n",
    "\n",
    "%matplotlib inline"
   ]
  },
  {
   "cell_type": "markdown",
   "metadata": {},
   "source": [
    "#### Load the data"
   ]
  },
  {
   "cell_type": "code",
   "execution_count": 2,
   "metadata": {},
   "outputs": [],
   "source": [
    "data_types = {'Name': str,\n",
    "              'Sex': str,\n",
    "              'Age': float,\n",
    "              'Division': str,\n",
    "              'Event': str,\n",
    "              'Federation': str,\n",
    "              'Date': str,\n",
    "              'MeetName': str}\n",
    "\n",
    "columns = ['Name',\n",
    "           'Sex',\n",
    "           'Age',\n",
    "           'Division',\n",
    "           'Event',\n",
    "           'Federation',\n",
    "           'Date',\n",
    "           'MeetName']"
   ]
  },
  {
   "cell_type": "code",
   "execution_count": 3,
   "metadata": {},
   "outputs": [],
   "source": [
    "op = pd.read_csv('openpowerlifting-2020-01-30.csv', usecols=columns, dtype=data_types)"
   ]
  },
  {
   "cell_type": "code",
   "execution_count": 4,
   "metadata": {},
   "outputs": [],
   "source": [
    "# add a year column\n",
    "op['Year'] = op['Date'].str[0:4].astype(int)"
   ]
  },
  {
   "cell_type": "markdown",
   "metadata": {},
   "source": [
    "#### Analyze the data"
   ]
  },
  {
   "cell_type": "code",
   "execution_count": 5,
   "metadata": {},
   "outputs": [],
   "source": [
    "## filter the data to full-power USPA lifters aged 35 to 39 between 2011 and 2019 (not including LW, MW, and HW divisions)\n",
    "## U.S. IPL meets are not included\n",
    "mask = ((op['Federation'] == 'USPA')\n",
    "         & (op['Event'] == 'SBD')\n",
    "         & (op['Age'].between(35, 39))\n",
    "         & (op['Division'].isin(['Open', 'Submasters 35-39'])) \n",
    "         & (op['Year'].isin(range(2011, 2020))))\n",
    "uspa3539 = op[mask]"
   ]
  },
  {
   "cell_type": "code",
   "execution_count": 6,
   "metadata": {},
   "outputs": [],
   "source": [
    "## find whether a lifter signed up for Open, Submasters 35-39, or both\n",
    "## grouping by name and date is sufficient to identify unique lifters\n",
    "## use head(1) to avoid unusual combinations like 'Open + Open'\n",
    "uspa3539_no_duplicates = uspa3539.sort_values('Division').groupby(['Year', 'Name', 'Date', 'Division']).head(1)\n",
    "concat_division = uspa3539_no_duplicates.groupby(['Year', 'Name', 'Date'])['Division'].apply(' + '.join).reset_index()"
   ]
  },
  {
   "cell_type": "code",
   "execution_count": 7,
   "metadata": {},
   "outputs": [
    {
     "data": {
      "text/html": [
       "<div>\n",
       "<style scoped>\n",
       "    .dataframe tbody tr th:only-of-type {\n",
       "        vertical-align: middle;\n",
       "    }\n",
       "\n",
       "    .dataframe tbody tr th {\n",
       "        vertical-align: top;\n",
       "    }\n",
       "\n",
       "    .dataframe thead th {\n",
       "        text-align: right;\n",
       "    }\n",
       "</style>\n",
       "<table border=\"1\" class=\"dataframe\">\n",
       "  <thead>\n",
       "    <tr style=\"text-align: right;\">\n",
       "      <th>Division</th>\n",
       "      <th>Year</th>\n",
       "      <th>Open</th>\n",
       "      <th>Open + Submasters 35-39</th>\n",
       "      <th>Submasters 35-39</th>\n",
       "    </tr>\n",
       "  </thead>\n",
       "  <tbody>\n",
       "    <tr>\n",
       "      <th>0</th>\n",
       "      <td>2011</td>\n",
       "      <td>15</td>\n",
       "      <td>7</td>\n",
       "      <td>9</td>\n",
       "    </tr>\n",
       "    <tr>\n",
       "      <th>1</th>\n",
       "      <td>2012</td>\n",
       "      <td>39</td>\n",
       "      <td>36</td>\n",
       "      <td>33</td>\n",
       "    </tr>\n",
       "    <tr>\n",
       "      <th>2</th>\n",
       "      <td>2013</td>\n",
       "      <td>46</td>\n",
       "      <td>92</td>\n",
       "      <td>80</td>\n",
       "    </tr>\n",
       "    <tr>\n",
       "      <th>3</th>\n",
       "      <td>2014</td>\n",
       "      <td>122</td>\n",
       "      <td>140</td>\n",
       "      <td>158</td>\n",
       "    </tr>\n",
       "    <tr>\n",
       "      <th>4</th>\n",
       "      <td>2015</td>\n",
       "      <td>159</td>\n",
       "      <td>139</td>\n",
       "      <td>209</td>\n",
       "    </tr>\n",
       "    <tr>\n",
       "      <th>5</th>\n",
       "      <td>2016</td>\n",
       "      <td>218</td>\n",
       "      <td>198</td>\n",
       "      <td>422</td>\n",
       "    </tr>\n",
       "    <tr>\n",
       "      <th>6</th>\n",
       "      <td>2017</td>\n",
       "      <td>263</td>\n",
       "      <td>317</td>\n",
       "      <td>505</td>\n",
       "    </tr>\n",
       "    <tr>\n",
       "      <th>7</th>\n",
       "      <td>2018</td>\n",
       "      <td>353</td>\n",
       "      <td>462</td>\n",
       "      <td>497</td>\n",
       "    </tr>\n",
       "    <tr>\n",
       "      <th>8</th>\n",
       "      <td>2019</td>\n",
       "      <td>398</td>\n",
       "      <td>639</td>\n",
       "      <td>609</td>\n",
       "    </tr>\n",
       "  </tbody>\n",
       "</table>\n",
       "</div>"
      ],
      "text/plain": [
       "Division  Year  Open  Open + Submasters 35-39  Submasters 35-39\n",
       "0         2011    15                        7                 9\n",
       "1         2012    39                       36                33\n",
       "2         2013    46                       92                80\n",
       "3         2014   122                      140               158\n",
       "4         2015   159                      139               209\n",
       "5         2016   218                      198               422\n",
       "6         2017   263                      317               505\n",
       "7         2018   353                      462               497\n",
       "8         2019   398                      639               609"
      ]
     },
     "execution_count": 7,
     "metadata": {},
     "output_type": "execute_result"
    }
   ],
   "source": [
    "# by year, how many lifters signed up for Open, Submasters 35-39, or both\n",
    "chart_source = concat_division.groupby('Year')['Division'].value_counts().unstack().reset_index()\n",
    "chart_source"
   ]
  },
  {
   "cell_type": "code",
   "execution_count": 8,
   "metadata": {},
   "outputs": [
    {
     "data": {
      "text/html": [
       "<div>\n",
       "<style scoped>\n",
       "    .dataframe tbody tr th:only-of-type {\n",
       "        vertical-align: middle;\n",
       "    }\n",
       "\n",
       "    .dataframe tbody tr th {\n",
       "        vertical-align: top;\n",
       "    }\n",
       "\n",
       "    .dataframe thead th {\n",
       "        text-align: right;\n",
       "    }\n",
       "</style>\n",
       "<table border=\"1\" class=\"dataframe\">\n",
       "  <thead>\n",
       "    <tr style=\"text-align: right;\">\n",
       "      <th>Division</th>\n",
       "      <th>Year</th>\n",
       "      <th>Open</th>\n",
       "      <th>Open + Submasters 35-39</th>\n",
       "      <th>Submasters 35-39</th>\n",
       "    </tr>\n",
       "  </thead>\n",
       "  <tbody>\n",
       "    <tr>\n",
       "      <th>0</th>\n",
       "      <td>2011</td>\n",
       "      <td>0.483871</td>\n",
       "      <td>0.225806</td>\n",
       "      <td>0.290323</td>\n",
       "    </tr>\n",
       "    <tr>\n",
       "      <th>1</th>\n",
       "      <td>2012</td>\n",
       "      <td>0.361111</td>\n",
       "      <td>0.333333</td>\n",
       "      <td>0.305556</td>\n",
       "    </tr>\n",
       "    <tr>\n",
       "      <th>2</th>\n",
       "      <td>2013</td>\n",
       "      <td>0.211009</td>\n",
       "      <td>0.422018</td>\n",
       "      <td>0.366972</td>\n",
       "    </tr>\n",
       "    <tr>\n",
       "      <th>3</th>\n",
       "      <td>2014</td>\n",
       "      <td>0.290476</td>\n",
       "      <td>0.333333</td>\n",
       "      <td>0.376190</td>\n",
       "    </tr>\n",
       "    <tr>\n",
       "      <th>4</th>\n",
       "      <td>2015</td>\n",
       "      <td>0.313609</td>\n",
       "      <td>0.274162</td>\n",
       "      <td>0.412229</td>\n",
       "    </tr>\n",
       "    <tr>\n",
       "      <th>5</th>\n",
       "      <td>2016</td>\n",
       "      <td>0.260143</td>\n",
       "      <td>0.236277</td>\n",
       "      <td>0.503580</td>\n",
       "    </tr>\n",
       "    <tr>\n",
       "      <th>6</th>\n",
       "      <td>2017</td>\n",
       "      <td>0.242396</td>\n",
       "      <td>0.292166</td>\n",
       "      <td>0.465438</td>\n",
       "    </tr>\n",
       "    <tr>\n",
       "      <th>7</th>\n",
       "      <td>2018</td>\n",
       "      <td>0.269055</td>\n",
       "      <td>0.352134</td>\n",
       "      <td>0.378811</td>\n",
       "    </tr>\n",
       "    <tr>\n",
       "      <th>8</th>\n",
       "      <td>2019</td>\n",
       "      <td>0.241798</td>\n",
       "      <td>0.388214</td>\n",
       "      <td>0.369988</td>\n",
       "    </tr>\n",
       "  </tbody>\n",
       "</table>\n",
       "</div>"
      ],
      "text/plain": [
       "Division  Year      Open  Open + Submasters 35-39  Submasters 35-39\n",
       "0         2011  0.483871                 0.225806          0.290323\n",
       "1         2012  0.361111                 0.333333          0.305556\n",
       "2         2013  0.211009                 0.422018          0.366972\n",
       "3         2014  0.290476                 0.333333          0.376190\n",
       "4         2015  0.313609                 0.274162          0.412229\n",
       "5         2016  0.260143                 0.236277          0.503580\n",
       "6         2017  0.242396                 0.292166          0.465438\n",
       "7         2018  0.269055                 0.352134          0.378811\n",
       "8         2019  0.241798                 0.388214          0.369988"
      ]
     },
     "execution_count": 8,
     "metadata": {},
     "output_type": "execute_result"
    }
   ],
   "source": [
    "## normalize those values so that we can produce a 100% stacked area chart\n",
    "cols = ['Open', 'Open + Submasters 35-39', 'Submasters 35-39']\n",
    "chart_source[cols] = chart_source[cols].div(chart_source[cols].sum(axis=1), axis=0)\n",
    "chart_source"
   ]
  },
  {
   "cell_type": "code",
   "execution_count": 9,
   "metadata": {},
   "outputs": [
    {
     "data": {
      "image/png": "[encoded data removed]",
      "text/plain": [
       "<Figure size 1080x576 with 1 Axes>"
      ]
     },
     "metadata": {
      "needs_background": "light"
     },
     "output_type": "display_data"
    }
   ],
   "source": [
    "# visualize the results\n",
    "fig, ax = plt.subplots(figsize=(15, 8))\n",
    "\n",
    "x = chart_source['Year']\n",
    "y1 = chart_source['Open']\n",
    "y2 = chart_source['Open + Submasters 35-39']\n",
    "y3 = chart_source['Submasters 35-39']\n",
    "labels = ['Open', 'Open + Submasters 35-39', 'Submasters 35-39']\n",
    "\n",
    "ax.stackplot(x, y1, y2, y3, labels=labels)\n",
    "\n",
    "plt.title('Age categories chosen by USPA lifters aged 35 to 39', size=21)\n",
    "plt.legend(loc='lower center', fontsize=14)\n",
    "ax.tick_params(axis='x', which='major', labelsize=15, pad=6, length=5)\n",
    "plt.yticks([0, 0.25, 0.5, 0.75, 1], size=15)\n",
    "ax.yaxis.set_major_formatter(ticker.PercentFormatter(1.0))\n",
    "\n",
    "plt.show()"
   ]
  }
 ],
 "metadata": {
  "kernelspec": {
   "display_name": "Python 3",
   "language": "python",
   "name": "python3"
  },
  "language_info": {
   "codemirror_mode": {
    "name": "ipython",
    "version": 3
   },
   "file_extension": ".py",
   "mimetype": "text/x-python",
   "name": "python",
   "nbconvert_exporter": "python",
   "pygments_lexer": "ipython3",
   "version": "3.7.3"
  }
 },
 "nbformat": 4,
 "nbformat_minor": 2
}
