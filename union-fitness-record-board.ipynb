{
 "cells": [
  {
   "cell_type": "markdown",
   "metadata": {},
   "source": [
    "# Union Fitness record board\n",
    "This page uses data from the OpenPowerlifting project, https://www.openpowerlifting.org. <br>\n",
    "You may download a copy of the data at https://gitlab.com/openpowerlifting/opl-data."
   ]
  },
  {
   "cell_type": "markdown",
   "metadata": {},
   "source": [
    "##### This script generates the data source for the [Union Fitness record board](https://datastudio.google.com/u/0/reporting/feac28b1-2dd2-40f1-b141-d44f305e5235/page/ianP)."
   ]
  },
  {
   "cell_type": "code",
   "execution_count": 1,
   "metadata": {},
   "outputs": [
    {
     "data": {
      "text/html": [
       "<style>.container { width:70% !important; }</style>"
      ],
      "text/plain": [
       "<IPython.core.display.HTML object>"
      ]
     },
     "metadata": {},
     "output_type": "display_data"
    }
   ],
   "source": [
    "import pygsheets\n",
    "import pandas as pd\n",
    "\n",
    "from IPython.core.display import display, HTML\n",
    "display(HTML('<style>.container { width:70% !important; }</style>'))"
   ]
  },
  {
   "cell_type": "code",
   "execution_count": 2,
   "metadata": {},
   "outputs": [],
   "source": [
    "# import the members list from Google Sheets\n",
    "gc = pygsheets.authorize(service_file='client_secret.json')\n",
    "spreadsheet = gc.open_by_key('1F9p68_sX_dYViJZSBpbszMka6c2a0LpCsCXW8qdpNxY')\n",
    "members = spreadsheet.worksheet_by_title('Members').get_as_df()"
   ]
  },
  {
   "cell_type": "code",
   "execution_count": 3,
   "metadata": {},
   "outputs": [],
   "source": [
    "# import the data from OpenPowerlifting\n",
    "data_types = {\n",
    "              'Name': str,\n",
    "              'Sex': str,\n",
    "              'Equipment': str,\n",
    "              'WeightClassKg': str,\n",
    "              'Best3SquatKg': float,\n",
    "              'Best3BenchKg': float,\n",
    "              'Best3DeadliftKg': float,\n",
    "              'Squat4Kg': float,\n",
    "              'Bench4Kg': float,\n",
    "              'Deadlift4Kg': float,\n",
    "              'TotalKg': float,\n",
    "              'Wilks': float,\n",
    "              'Date': str,\n",
    "              'MeetName': str,\n",
    "              'Federation': str,\n",
    "              'Place': str\n",
    "             }\n",
    "op = pd.read_csv('openpowerlifting-2020-02-15.csv', dtype=data_types, usecols=list(data_types))"
   ]
  },
  {
   "cell_type": "code",
   "execution_count": 4,
   "metadata": {},
   "outputs": [],
   "source": [
    "# inner join the two dataframes\n",
    "merged_df = pd.merge(op, members, on='Name')"
   ]
  },
  {
   "cell_type": "code",
   "execution_count": 5,
   "metadata": {},
   "outputs": [],
   "source": [
    "# filter the data\n",
    "mask = ((merged_df['Date'] >= merged_df['JoinDate'])\n",
    "        & ((merged_df['Date'] <= merged_df['DepartureDate']) | merged_df['DepartureDate'].isna()) \n",
    "        & (merged_df['Place'] != 'DQ'))\n",
    "uf_only = merged_df[mask].copy()"
   ]
  },
  {
   "cell_type": "code",
   "execution_count": 6,
   "metadata": {},
   "outputs": [],
   "source": [
    "# account for 4th attempts\n",
    "uf_only['BestSquat'] = uf_only[['Best3SquatKg', 'Squat4Kg']].max(axis=1)\n",
    "uf_only['BestBench'] = uf_only[['Best3BenchKg', 'Bench4Kg']].max(axis=1)\n",
    "uf_only['BestDeadlift'] = uf_only[['Best3DeadliftKg', 'Deadlift4Kg']].max(axis=1)"
   ]
  },
  {
   "cell_type": "code",
   "execution_count": 7,
   "metadata": {},
   "outputs": [],
   "source": [
    "# convert kilograms to pounds\n",
    "uf_only[['BestSquat', 'BestBench', 'BestDeadlift', 'Total']] = uf_only[['BestSquat', 'BestBench', 'BestDeadlift', 'TotalKg']].apply(lambda x: x*2.20462)"
   ]
  },
  {
   "cell_type": "code",
   "execution_count": 8,
   "metadata": {},
   "outputs": [],
   "source": [
    "# reformat weight classes\n",
    "def translate_weight_class(x):\n",
    "    if x == '52':\n",
    "        return '(01) -114 (M + F)'\n",
    "    elif x == '56':\n",
    "        return '(02) -123 (M + F)'\n",
    "    elif x == '60':\n",
    "        return '(03) -132 (M + F)'\n",
    "    elif x == '63':\n",
    "        return '(04) -138 (F)'\n",
    "    elif x == '67.5':\n",
    "        return '(05) -148 (M + F)'\n",
    "    elif x == '72':\n",
    "        return '(06) -158 (F)'\n",
    "    elif x == '75':\n",
    "        return '(07) -165 (M + F)'\n",
    "    elif x == '82.5':\n",
    "        return '(08) -181 (M + F)'\n",
    "    elif x == '90':\n",
    "        return '(09) -198 (M + F)'\n",
    "    elif x == '90+':\n",
    "        return '(10) 198+ (F)'\n",
    "    elif x == '93':\n",
    "        return '(11) -205 (M)'\n",
    "    elif x == '100':\n",
    "        return '(12) -220 (M)'\n",
    "    elif x == '110':\n",
    "        return '(13) -242 (M)'\n",
    "    elif x == '120':\n",
    "        return '(14) -264 (M)'\n",
    "    elif x == '120+':\n",
    "        return '(15) 264+ (M)'\n",
    "    elif x == '125':\n",
    "        return '(16) -275 (M)'\n",
    "    elif x == '140':\n",
    "        return '(17) -308 (M)'\n",
    "    elif x == '140+':\n",
    "        return '(18) 308+ (M)'\n",
    "    else:\n",
    "        return 'error'\n",
    "\n",
    "uf_only['WeightClass'] = uf_only['WeightClassKg'].apply(translate_weight_class)"
   ]
  },
  {
   "cell_type": "code",
   "execution_count": 9,
   "metadata": {},
   "outputs": [],
   "source": [
    "# remove hashtags from names\n",
    "uf_only['Name'] = uf_only['Name'].str.replace(r' #\\d', '')"
   ]
  },
  {
   "cell_type": "code",
   "execution_count": 10,
   "metadata": {},
   "outputs": [],
   "source": [
    "# adjust some names\n",
    "uf_only.loc[uf_only['Name'] == 'Francis Snyder', 'Name'] = 'Stew Snyder'\n",
    "uf_only.loc[uf_only['Name'] == 'Edward Jones', 'Name'] = 'Eddy Jones'\n",
    "uf_only.loc[uf_only['Name'] == 'Stephen Buccilli', 'Name'] = 'Steve Buccilli'"
   ]
  },
  {
   "cell_type": "code",
   "execution_count": 11,
   "metadata": {},
   "outputs": [],
   "source": [
    "# prepare final data\n",
    "columns_to_drop = [\n",
    "                   'WeightClassKg', \n",
    "                   'Best3SquatKg', \n",
    "                   'Best3BenchKg', \n",
    "                   'Best3DeadliftKg', \n",
    "                   'Squat4Kg','Bench4Kg', \n",
    "                   'Deadlift4Kg', \n",
    "                   'TotalKg', \n",
    "                   'Place', \n",
    "                   'JoinDate', \n",
    "                   'DepartureDate'\n",
    "                  ]\n",
    "data = uf_only.drop(columns=columns_to_drop)\n",
    "data['Date'] = pd.to_datetime(data['Date'])\n",
    "data.drop_duplicates(inplace=True)\n",
    "data.sort_values(by=['Date', 'MeetName', 'Name'], inplace=True)"
   ]
  },
  {
   "cell_type": "code",
   "execution_count": 12,
   "metadata": {},
   "outputs": [],
   "source": [
    "# upload final data to Google Sheets\n",
    "dashboard = spreadsheet.worksheet_by_title('Dashboard')\n",
    "dashboard.clear()\n",
    "dashboard.set_dataframe(data, (1,1), nan='')"
   ]
  }
 ],
 "metadata": {
  "kernelspec": {
   "display_name": "Python 3",
   "language": "python",
   "name": "python3"
  },
  "language_info": {
   "codemirror_mode": {
    "name": "ipython",
    "version": 3
   },
   "file_extension": ".py",
   "mimetype": "text/x-python",
   "name": "python",
   "nbconvert_exporter": "python",
   "pygments_lexer": "ipython3",
   "version": "3.7.3"
  }
 },
 "nbformat": 4,
 "nbformat_minor": 2
}
