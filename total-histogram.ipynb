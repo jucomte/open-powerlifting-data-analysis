{
 "cells": [
  {
   "cell_type": "markdown",
   "metadata": {},
   "source": [
    "# Visualizing the distribution of totals\n",
    "This script uses data from the OpenPowerlifting project (https://www.openpowerlifting.org). <br>\n",
    "You may download a copy of the data at https://gitlab.com/openpowerlifting/opl-data."
   ]
  },
  {
   "cell_type": "code",
   "execution_count": 1,
   "metadata": {},
   "outputs": [],
   "source": [
    "import pandas as pd\n",
    "import matplotlib.pyplot as plt\n",
    "import bisect\n",
    "from scipy import stats\n",
    "\n",
    "%matplotlib inline"
   ]
  },
  {
   "cell_type": "code",
   "execution_count": 2,
   "metadata": {},
   "outputs": [],
   "source": [
    "data_types = {\n",
    "              'Name': str,\n",
    "              'Sex': str,\n",
    "              'Event': str,\n",
    "              'Equipment': str,\n",
    "              'WeightClassKg': str,\n",
    "              'TotalKg': float\n",
    "             }\n",
    "\n",
    "opl = pd.read_csv('openpowerlifting.csv', dtype=data_types, usecols=list(data_types))"
   ]
  },
  {
   "cell_type": "code",
   "execution_count": 3,
   "metadata": {},
   "outputs": [],
   "source": [
    "opl.rename(columns={'TotalKg':'Total'}, inplace=True)"
   ]
  },
  {
   "cell_type": "markdown",
   "metadata": {},
   "source": [
    "#### Parameters"
   ]
  },
  {
   "cell_type": "code",
   "execution_count": 4,
   "metadata": {},
   "outputs": [],
   "source": [
    "weight_class = ['82.5']\n",
    "sex = 'M'\n",
    "equipment = ['Raw']\n",
    "\n",
    "my_name = 'Julien Comte'"
   ]
  },
  {
   "cell_type": "code",
   "execution_count": 5,
   "metadata": {},
   "outputs": [],
   "source": [
    "parameter_mask = ((opl.WeightClassKg.isin(weight_class))\n",
    "                  & (opl.Sex == sex)\n",
    "                  & (opl.Equipment.isin(equipment))\n",
    "                  & (opl.Event == 'SBD')\n",
    "                  & (opl.Total.notna()))\n",
    "\n",
    "opl_filtered = opl[parameter_mask]"
   ]
  },
  {
   "cell_type": "code",
   "execution_count": 6,
   "metadata": {},
   "outputs": [],
   "source": [
    "best_totals = opl_filtered.groupby('Name')['Total'].max()"
   ]
  },
  {
   "cell_type": "code",
   "execution_count": 7,
   "metadata": {},
   "outputs": [],
   "source": [
    "my_best_total = opl_filtered.loc[opl_filtered['Name'] == my_name]['Total'].max()"
   ]
  },
  {
   "cell_type": "markdown",
   "metadata": {},
   "source": [
    "#### Histogram"
   ]
  },
  {
   "cell_type": "code",
   "execution_count": 8,
   "metadata": {},
   "outputs": [
    {
     "data": {
      "image/png": "[encoded data removed]",
      "text/plain": [
       "<Figure size 1008x720 with 1 Axes>"
      ]
     },
     "metadata": {
      "needs_background": "light"
     },
     "output_type": "display_data"
    }
   ],
   "source": [
    "fig = plt.figure(figsize=(14, 10))\n",
    "\n",
    "ax = fig.add_subplot()\n",
    "\n",
    "n, bins, patches = ax.hist(best_totals, bins='auto', color='green', edgecolor='black')\n",
    "\n",
    "# chart formatting\n",
    "ax.set_xlabel('Total (in kg)', size=19)\n",
    "ax.set_ylabel('Frequency', size=19)\n",
    "plt.yticks(size=14)\n",
    "plt.xticks(size=14)\n",
    "ax.tick_params(axis='both', which='major', pad=5, length=5)\n",
    "\n",
    "# my bin (rightmost value less than or equal to my_total)\n",
    "bisect_index = bisect.bisect_right(bins, my_best_total)\n",
    "\n",
    "if bisect_index == len(bins):\n",
    "    index_to_highlight = -1\n",
    "else:\n",
    "    index_to_highlight = bisect_index - 1\n",
    "    \n",
    "patches[index_to_highlight].set_facecolor('red')\n",
    "\n",
    "# my percentile\n",
    "percentile = stats.percentileofscore(best_totals, my_best_total, kind='mean')\n",
    "ax.legend([patches[index_to_highlight]], [f'{my_best_total:g} kg total = {percentile:.2f} percentile'], prop={\"size\":14})\n",
    "\n",
    "# textbox with parameters\n",
    "parameters = '\\n'.join((\n",
    "   f'Sex: {sex}',\n",
    "   f'Weight class: {\", \".join(str(x) for x in weight_class)}',\n",
    "   f'Equipment: {\", \".join(str(x) for x in equipment)}',\n",
    "   '\\n'\n",
    "   f'Number of lifters: {best_totals.count():,}'))\n",
    "props = dict(boxstyle='round', facecolor='wheat', alpha=0.5)\n",
    "ax.text(0.05, 0.95, parameters, transform=ax.transAxes, fontsize=14, verticalalignment='top', bbox=props)\n",
    "\n",
    "plt.show()"
   ]
  },
  {
   "cell_type": "code",
   "execution_count": 9,
   "metadata": {},
   "outputs": [
    {
     "data": {
      "text/html": [
       "<div>\n",
       "<style scoped>\n",
       "    .dataframe tbody tr th:only-of-type {\n",
       "        vertical-align: middle;\n",
       "    }\n",
       "\n",
       "    .dataframe tbody tr th {\n",
       "        vertical-align: top;\n",
       "    }\n",
       "\n",
       "    .dataframe thead th {\n",
       "        text-align: right;\n",
       "    }\n",
       "</style>\n",
       "<table border=\"1\" class=\"dataframe\">\n",
       "  <thead>\n",
       "    <tr style=\"text-align: right;\">\n",
       "      <th></th>\n",
       "      <th>Total</th>\n",
       "    </tr>\n",
       "  </thead>\n",
       "  <tbody>\n",
       "    <tr>\n",
       "      <th>count</th>\n",
       "      <td>8940.0</td>\n",
       "    </tr>\n",
       "    <tr>\n",
       "      <th>mean</th>\n",
       "      <td>504.8</td>\n",
       "    </tr>\n",
       "    <tr>\n",
       "      <th>std</th>\n",
       "      <td>89.2</td>\n",
       "    </tr>\n",
       "    <tr>\n",
       "      <th>min</th>\n",
       "      <td>75.0</td>\n",
       "    </tr>\n",
       "    <tr>\n",
       "      <th>25%</th>\n",
       "      <td>450.0</td>\n",
       "    </tr>\n",
       "    <tr>\n",
       "      <th>50%</th>\n",
       "      <td>505.8</td>\n",
       "    </tr>\n",
       "    <tr>\n",
       "      <th>75%</th>\n",
       "      <td>562.5</td>\n",
       "    </tr>\n",
       "    <tr>\n",
       "      <th>99%</th>\n",
       "      <td>712.5</td>\n",
       "    </tr>\n",
       "    <tr>\n",
       "      <th>max</th>\n",
       "      <td>907.5</td>\n",
       "    </tr>\n",
       "  </tbody>\n",
       "</table>\n",
       "</div>"
      ],
      "text/plain": [
       "        Total\n",
       "count  8940.0\n",
       "mean    504.8\n",
       "std      89.2\n",
       "min      75.0\n",
       "25%     450.0\n",
       "50%     505.8\n",
       "75%     562.5\n",
       "99%     712.5\n",
       "max     907.5"
      ]
     },
     "execution_count": 9,
     "metadata": {},
     "output_type": "execute_result"
    }
   ],
   "source": [
    "pd.set_option('precision', 1)\n",
    "\n",
    "# descriptive statistics\n",
    "best_totals.describe(percentiles=[.25, .50, .75, .99]).to_frame()"
   ]
  }
 ],
 "metadata": {
  "kernelspec": {
   "display_name": "Python 3",
   "language": "python",
   "name": "python3"
  },
  "language_info": {
   "codemirror_mode": {
    "name": "ipython",
    "version": 3
   },
   "file_extension": ".py",
   "mimetype": "text/x-python",
   "name": "python",
   "nbconvert_exporter": "python",
   "pygments_lexer": "ipython3",
   "version": "3.7.6"
  }
 },
 "nbformat": 4,
 "nbformat_minor": 4
}
